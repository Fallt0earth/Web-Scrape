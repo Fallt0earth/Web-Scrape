{
 "cells": [
  {
   "cell_type": "code",
   "execution_count": 21,
   "id": "5ad6d370",
   "metadata": {
    "scrolled": true
   },
   "outputs": [
    {
     "name": "stdout",
     "output_type": "stream",
     "text": [
      "<Response [200]>\n",
      "b'{\"api_version\":\"0.4.8\",\"results\":{\"company\":{\"name\":\"!HOSANNA! HEALTH CARE SERVICE INC.\",\"company_number\":\"P08000101064\",\"jurisdiction_code\":\"us_fl\",\"incorporation_date\":\"2008-11-12\",\"dissolution_date\":null,\"company_type\":\"Domestic for Profit\",\"registry_url\":null,\"branch\":null,\"branch_status\":null,\"inactive\":true,\"current_status\":\"Inactive\",\"created_at\":\"2012-03-10T14:17:53+00:00\",\"updated_at\":\"2021-10-22T01:50:44+00:00\",\"retrieved_at\":\"2021-10-01T00:00:00+00:00\",\"opencorporates_url\":\"https://opencorporates.com/companies/us_fl/P08000101064\",\"source\":{\"publisher\":\"Florida Department of State Division of Corporations\",\"url\":\"http://www.sunbiz.org\",\"retrieved_at\":\"2021-10-01T00:00:00+00:00\"},\"agent_name\":null,\"agent_address\":null,\"alternative_names\":[],\"previous_names\":[],\"number_of_employees\":null,\"native_company_number\":null,\"alternate_registration_entities\":[],\"previous_registration_entities\":[],\"subsequent_registration_entities\":[],\"registered_address_in_full\":null,\"industry_codes\":[],\"identifiers\":[],\"trademark_registrations\":[],\"corporate_groupings\":[],\"data\":{\"most_recent\":[{\"datum\":{\"id\":13210664,\"title\":\"Head Office Address\",\"data_type\":\"CompanyAddress\",\"description\":\"12916 SW 133RD CT SUITE A, MIAMI, FL, 33186\",\"opencorporates_url\":\"https://opencorporates.com/data/13210664\"}},{\"datum\":{\"id\":13210665,\"title\":\"Mailing Address\",\"data_type\":\"CompanyAddress\",\"description\":\"12916 SW 133RD CT SUITE A, MIAMI, FL, 33186\",\"opencorporates_url\":\"https://opencorporates.com/data/13210665\"}}],\"total_count\":2,\"url\":\"https://opencorporates.com/companies/us_fl/P08000101064/data\"},\"financial_summary\":null,\"home_company\":null,\"controlling_entity\":null,\"ultimate_beneficial_owners\":[],\"ultimate_controlling_company\":null,\"filings\":[],\"officers\":[{\"officer\":{\"id\":16662031,\"name\":\"NOIDA R GUERRA\",\"position\":\"president\",\"uid\":null,\"start_date\":null,\"end_date\":null,\"opencorporates_url\":\"https://opencorporates.com/officers/16662031\",\"occupation\":null,\"inactive\":true,\"current_status\":null,\"address\":\"12916 SW 133RD CT SUITE A, MIAMI, FL 33186\",\"nationality\":null,\"date_of_birth\":null}},{\"officer\":{\"id\":16662032,\"name\":\"NOIDA R GUERRA\",\"position\":\"agent\",\"uid\":null,\"start_date\":null,\"end_date\":null,\"opencorporates_url\":\"https://opencorporates.com/officers/16662032\",\"occupation\":null,\"inactive\":true,\"current_status\":null,\"address\":\"12916 SW 133RD CT SUITE A, MIAMI, FL 33186\",\"nationality\":null,\"date_of_birth\":null}}]}}}'\n"
     ]
    }
   ],
   "source": [
    "import urllib\n",
    "import requests\n",
    "from bs4 import BeautifulSoup\n",
    "import time\n",
    "import pandas as pd\n",
    "import json\n",
    "#https://hackernoon.com/how-to-scrape-google-with-python-bo7d2tal\n",
    "\n",
    "\n",
    "API = 'IHOD7nIduQHdIIogy8on'\n",
    "URL = \"https://api.opencorporates.com/companies/us_fl/P08000101064\" + \"?api_token=\" + API\n",
    "\n",
    "\n",
    "resp = requests.get(URL)\n",
    "print(resp)\n",
    "if resp.status_code == 200:\n",
    "    soup = BeautifulSoup(resp.content, \"html.parser\")\n",
    "print(resp.content)\n",
    "data = json.loads(resp.content)\n",
    "df = pd.DataFrame.from_dict(data['results'])\n",
    "df.dropna(inplace=True)\n",
    "df.to_csv(\".\\out.csv\")"
   ]
  },
  {
   "cell_type": "code",
   "execution_count": null,
   "id": "914f1b17",
   "metadata": {},
   "outputs": [],
   "source": []
  },
  {
   "cell_type": "code",
   "execution_count": null,
   "id": "a4c25e6d",
   "metadata": {},
   "outputs": [],
   "source": []
  }
 ],
 "metadata": {
  "kernelspec": {
   "display_name": "Python 3 (ipykernel)",
   "language": "python",
   "name": "python3"
  },
  "language_info": {
   "codemirror_mode": {
    "name": "ipython",
    "version": 3
   },
   "file_extension": ".py",
   "mimetype": "text/x-python",
   "name": "python",
   "nbconvert_exporter": "python",
   "pygments_lexer": "ipython3",
   "version": "3.8.11"
  }
 },
 "nbformat": 4,
 "nbformat_minor": 5
}
